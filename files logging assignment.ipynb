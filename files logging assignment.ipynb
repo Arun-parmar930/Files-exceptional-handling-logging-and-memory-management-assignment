{
 "cells": [
  {
   "cell_type": "markdown",
   "id": "b96aa61b",
   "metadata": {},
   "source": [
    "# Theory Questions\n"
   ]
  },
  {
   "cell_type": "markdown",
   "id": "58ca1890",
   "metadata": {},
   "source": [
    "1. What is the difference between interpreted and compiled languages?\n",
    "    - Interpreted languages run code line-by-line at runtime, while compiled languages translate the entire code into machine code(byte code) before execution.  \n",
    "    Compiled code is usually faster, but interpreted code is easier to test and debug."
   ]
  },
  {
   "cell_type": "markdown",
   "id": "ad883847",
   "metadata": {},
   "source": [
    "2. What is exception handling in Python?\n",
    "    - Exception handling in Python manages errors using try, except, else, and finally blocks.  \n",
    "    It prevents program crashes by handling unexpected issues gracefully."
   ]
  },
  {
   "cell_type": "markdown",
   "id": "51a50079",
   "metadata": {},
   "source": [
    "3. What is the purpose of the finally block in exception handling?\n",
    "    - The finally block ensures that specific code runs no matter what — whether an exception occurs or not.  \n",
    "    It is often used for cleanup tasks like closing files or releasing resources."
   ]
  },
  {
   "cell_type": "markdown",
   "id": "82338142",
   "metadata": {},
   "source": [
    "4. What is logging in Python?\n",
    "    - Logging in Python records messages about a program’s execution for debugging, monitoring.  \n",
    "    It is done using the logging module instead of print(), offering levels like DEBUG, INFO, WARNING, ERROR, and CRITICAL.\n",
    "    "
   ]
  },
  {
   "cell_type": "markdown",
   "id": "6231f24d",
   "metadata": {},
   "source": [
    "5. What is the significance of the `__del__` method in Python?\n",
    "    - The `__del__` method is a destructor in Python, called when an object is about to be destroyed.  \n"
   ]
  },
  {
   "cell_type": "markdown",
   "id": "519e90e3",
   "metadata": {},
   "source": [
    "6. What is the difference between import and from ... import in Python?\n",
    "    - import module -> loads the whole module and you can access its contents\n",
    "    - from module import name -> import a specific items directlty.it can be used without module prefix"
   ]
  },
  {
   "cell_type": "markdown",
   "id": "d402db72",
   "metadata": {},
   "source": [
    "7. How can you handle multiple exceptions in Python?\n",
    "    - we can handle multiple exceptions by using a tuple in a single except block: except (Error1, Error2) as e:\n",
    "    Or use multiple except blocks to handle each exception type separately"
   ]
  },
  {
   "cell_type": "markdown",
   "id": "289f8440",
   "metadata": {},
   "source": [
    "8. What is the purpose of the with statement when handling files in Python?\n",
    "    - The with statement handles file opening and closing automatically, even if errors occur.  \n",
    "    It ensures cleaner, safer code by managing resources properly."
   ]
  },
  {
   "cell_type": "markdown",
   "id": "2c54bf19",
   "metadata": {},
   "source": [
    "9. What is the difference between multithreading and multiprocessing?\n",
    "    - Multithreading > runs multiple threads in a single process and sharing memory space better for input output task.\n",
    "    - Multiprocessing > runs multiple processes each with its own memory better for computational task "
   ]
  },
  {
   "cell_type": "markdown",
   "id": "a3a7db1f",
   "metadata": {},
   "source": [
    "10. What are the advantages of using logging in a program?\n",
    "    - Logging provides persistent tracking of events, making debugging and monitoring easier.  \n",
    "    It allows you to capture detailed information, set log levels, and track issues in production environments without stopping the program."
   ]
  },
  {
   "cell_type": "markdown",
   "id": "822c5436",
   "metadata": {},
   "source": [
    "11. What is memory management in Python?\n",
    "    - Memory management in Python involves automatically handling memory allocation and deallocation using a garbage collector."
   ]
  },
  {
   "cell_type": "markdown",
   "id": "3162c5eb",
   "metadata": {},
   "source": [
    "12. What are the basic steps involved in exception handling in Python?\n",
    "    - Basic steps are :\n",
    "        - Use a try block to write code that might raise an exception.\n",
    "        - Handle the exception with an except block.\n",
    "        - use else for code that runs if no exception occurs, and finally for cleanup actions."
   ]
  },
  {
   "cell_type": "markdown",
   "id": "53ea0f77",
   "metadata": {},
   "source": [
    "13. Why is memory management important in Python?\n",
    "    - Memory management is crucial in Python to ensure efficient resource usage, avoid memory leaks, and maintain optimal program performance.  \n",
    "    It automatically handles allocation and deallocation, preventing issues related to manual memory management."
   ]
  },
  {
   "cell_type": "markdown",
   "id": "9a693df7",
   "metadata": {},
   "source": [
    "14. What is the role of try and except in exception handling?\n",
    "    - The try block contains code that might raise an exception, while the except block handles the exception if one occurs.  \n"
   ]
  },
  {
   "cell_type": "markdown",
   "id": "1e9819a9",
   "metadata": {},
   "source": [
    "15. How does Python's garbage collection system work?\n",
    "    - Python's garbage collection system uses reference counting and a cyclic garbage collector to manage memory.  \n",
    "    Objects are automatically deallocated when their reference count drops to zero, and the garbage collector detects and cleans up reference cycles."
   ]
  },
  {
   "cell_type": "markdown",
   "id": "41f9ecb7",
   "metadata": {},
   "source": [
    "16. What is the purpose of the else block in exception handling?\n",
    "    - The else block in exception handling runs if no exception is raised in the try block.  \n",
    "    It is used for code that should execute only when the try block succeeds, keeping error-handling and normal code separate."
   ]
  },
  {
   "cell_type": "markdown",
   "id": "297f8c0b",
   "metadata": {},
   "source": [
    "17. What are the common logging levels in Python?\n",
    "    - The common logging levels in Python are:  \n",
    "        - DEBUG: Detailed information, typically for diagnosing problems.  \n",
    "        - INFO: General information about program execution.  \n",
    "        - WARNING: Indications of potential problems.  \n",
    "        - ERROR: Serious issues that may affect functionality.  \n",
    "        - CRITICAL: Severe errors that could cause the program to crash."
   ]
  },
  {
   "cell_type": "markdown",
   "id": "1dd43edc",
   "metadata": {},
   "source": [
    "18. What is the difference between os.fork() and multiprocessing in Python?\n",
    "    - os.fork() creates a child process by duplicating the parent process, using shared memory.  \n",
    "    - multiprocessing in Python creates separate processes with their own memory, allowing better isolation and CPU utilization, and is safer for concurrent tasks."
   ]
  },
  {
   "cell_type": "markdown",
   "id": "6dd875d9",
   "metadata": {},
   "source": [
    "19. What is the importance of closing a file in Python?\n",
    "    - Closing a file in Python ensures that all data is properly written and resources are released.  \n",
    "    It prevents memory leaks, locks, and other issues, ensuring the file is safely accessible for other programs or processes."
   ]
  },
  {
   "cell_type": "markdown",
   "id": "6c616fcb",
   "metadata": {},
   "source": [
    "20. What is the difference between file.read() and file.readline() in Python?\n",
    "    - file.read() reads the entire content of the file as a single string.  \n",
    "    - file.readline() reads one line at a time, returning it as a string, making it useful for processing large files line-by-line."
   ]
  },
  {
   "cell_type": "markdown",
   "id": "a25410f2",
   "metadata": {},
   "source": [
    "21. What is the logging module in Python used for?\n",
    "    - The logging module in Python is used for tracking events during program execution.  \n"
   ]
  },
  {
   "cell_type": "markdown",
   "id": "14da9943",
   "metadata": {},
   "source": [
    "22. What is the os module in Python used for in file handling?\n",
    "    - The os module in Python provides functions to interact with the operating system, such as creating, deleting, or manipulating files and directories.  \n",
    "    It allows for operations like checking if a file exists, renaming files, and navigating the file system."
   ]
  },
  {
   "cell_type": "markdown",
   "id": "bfdf1657",
   "metadata": {},
   "source": [
    "23. What are the challenges associated with memory management in Python?\n",
    "    - Challenges in memory management in Python include handling circular references, as Python’s garbage collector might not immediately detect them"
   ]
  },
  {
   "cell_type": "markdown",
   "id": "e5e0c3e3",
   "metadata": {},
   "source": [
    "24.  How do you raise an exception manually in Python?\n",
    "    - You can raise an exception manually in Python using the raise keyword, followed by the exception type.  \n",
    "    For example: raise ValueError(\"This is an error message\")."
   ]
  },
  {
   "cell_type": "markdown",
   "id": "2e777c51",
   "metadata": {},
   "source": [
    "25. Why is it important to use multithreading in certain applications?\n",
    "    - Multithreading is important for applications that need to perform multiple tasks concurrently, like I/O-bound operations   \n",
    "    It improves efficiency by allowing tasks to run in parallel without blocking each other, enhancing performance in real-time or interactive applications."
   ]
  },
  {
   "cell_type": "markdown",
   "id": "6dc7ef32",
   "metadata": {},
   "source": [
    "# Practical Questions"
   ]
  },
  {
   "cell_type": "code",
   "execution_count": 3,
   "id": "8b89db9e",
   "metadata": {},
   "outputs": [],
   "source": [
    "#1 How can you open a file for writing in Python and write a string to it?\n",
    "\n",
    "file = open(\"file1.txt\",'w')\n",
    "file.write(\"this is the first line \\n\")\n",
    "file.write(\"this is the second line \\n\")\n",
    "file.write(\"this is the threee line \\n\")\n",
    "file.close()\n"
   ]
  },
  {
   "cell_type": "code",
   "execution_count": 4,
   "id": "1b0262c9",
   "metadata": {},
   "outputs": [
    {
     "name": "stdout",
     "output_type": "stream",
     "text": [
      "this is the first line \n",
      "\n",
      "this is the second line \n",
      "\n",
      "this is the threee line \n",
      "\n"
     ]
    }
   ],
   "source": [
    "#2 Write a Python program to read the contents of a file and print each line.\n",
    "file = open(\"file1.txt\",'r')\n",
    "\n",
    "for line in file:\n",
    "    print(line)"
   ]
  },
  {
   "cell_type": "code",
   "execution_count": 5,
   "id": "07360ed7",
   "metadata": {},
   "outputs": [
    {
     "name": "stdout",
     "output_type": "stream",
     "text": [
      "file doesn't exist\n"
     ]
    }
   ],
   "source": [
    "#3. How would you handle a case where the file doesn't exist while trying to open it for reading?\n",
    "\n",
    "\n",
    "# using try and except block\n",
    "try:\n",
    "    with open(\"newfile.txt\",'r') as file:\n",
    "        content = file.read()\n",
    "except FileNotFoundError:\n",
    "    print(\"file doesn't exist\")"
   ]
  },
  {
   "cell_type": "code",
   "execution_count": 6,
   "id": "b92debc9",
   "metadata": {},
   "outputs": [
    {
     "name": "stdout",
     "output_type": "stream",
     "text": [
      "this is the first line \n",
      "\n",
      "this is the second line \n",
      "\n",
      "this is the threee line \n",
      "\n"
     ]
    }
   ],
   "source": [
    "#4. Write a Python script that reads from one file and writes its content to another file.\n",
    "\n",
    "f1 =  open(\"file1.txt\",'r') \n",
    "f2 =  open(\"file2.txt\",'w+')\n",
    "\n",
    "for line in f1:\n",
    "    f2.write(line)\n",
    "\n",
    "# reading lines fron file2\n",
    "f2.seek(0)\n",
    "for line in f2:\n",
    "    print(line)"
   ]
  },
  {
   "cell_type": "code",
   "execution_count": 7,
   "id": "560475bd",
   "metadata": {},
   "outputs": [
    {
     "name": "stdout",
     "output_type": "stream",
     "text": [
      "Error found as division by zero\n"
     ]
    }
   ],
   "source": [
    "#5 How would you catch and handle division by zero error in Python?\n",
    "\n",
    "try:\n",
    "    num = 5\n",
    "    deno = 0\n",
    "    result = num/deno\n",
    "except ZeroDivisionError as e:\n",
    "    print(\"Error found as\",e)"
   ]
  },
  {
   "cell_type": "code",
   "execution_count": 8,
   "id": "28ce4df3",
   "metadata": {},
   "outputs": [],
   "source": [
    "#6 Write a Python program that logs an error message to a log file when a division by zero exception occurs?\n",
    "\n",
    "import logging\n",
    "logging.basicConfig(filename='error_log.txt', level=logging.ERROR)\n",
    "                    \n",
    "\n",
    "try:\n",
    "    num = 5\n",
    "    deno = 0\n",
    "    result = num/deno\n",
    "except ZeroDivisionError as e:\n",
    "    logging.error(\"Attempting to divide by zero : %s\",e)"
   ]
  },
  {
   "cell_type": "code",
   "execution_count": 9,
   "id": "0134b203",
   "metadata": {},
   "outputs": [],
   "source": [
    "#7 How do you log information at different levels (INFO, ERROR, WARNING) in Python using the logging module?\n",
    "\n",
    "#python has different logging level\n",
    "#based on level assigned to a log file\n",
    "#log file recorded the messages\n",
    "\n",
    "#DEBUG < INFO < WARNING < ERROR < CRITICAL\n",
    "\n",
    "#1. let use DEBUG level\n",
    "import logging\n",
    "\n",
    "logging.basicConfig(\n",
    "    filename=\"error_log1.txt\",\n",
    "    level= logging.DEBUG,\n",
    "    format='%(asctime)s - %(levelname)s - %(message)s'\n",
    ")\n",
    "logging.info(\"this is info message\")\n",
    "logging.warning(\"This is a warning message.\")\n",
    "logging.error(\"This is an error message.\")\n",
    "\n",
    "#as debug is smallest level all these log information will be saved in the loggig file\n"
   ]
  },
  {
   "cell_type": "code",
   "execution_count": 10,
   "id": "05d877e2",
   "metadata": {},
   "outputs": [],
   "source": [
    "#2. let use WARNING level\n",
    "import logging\n",
    "\n",
    "logging.basicConfig(\n",
    "    filename=\"error_log2.txt\",\n",
    "    level= logging.WARNING,\n",
    "    format='%(asctime)s - %(levelname)s - %(message)s'\n",
    ")\n",
    "logging.debug(\"this is debug message\")\n",
    "logging.info(\"this is info message\")\n",
    "logging.warning(\"This is a warning message.\")\n",
    "logging.error(\"This is an error message.\")\n",
    "\n",
    "# logging level is warning then the log information of INFO and DEBUG will not reflect in the log file"
   ]
  },
  {
   "cell_type": "code",
   "execution_count": 11,
   "id": "c5eac236",
   "metadata": {},
   "outputs": [
    {
     "name": "stdout",
     "output_type": "stream",
     "text": [
      "Error: The file does not exist.\n"
     ]
    }
   ],
   "source": [
    "#8. Write a program to handle a file opening error using exception handling?\n",
    "\n",
    "try:\n",
    "    with open(\"newfile.txt\", \"r\") as file:\n",
    "        content = file.read()\n",
    "        print(\"File content:\\n\", content)\n",
    "\n",
    "except FileNotFoundError:\n",
    "    print(\"Error: The file does not exist.\")\n",
    "\n",
    "except IOError:\n",
    "    print(\"Error: An I/O error occurred while opening the file.\")\n",
    "\n"
   ]
  },
  {
   "cell_type": "code",
   "execution_count": 12,
   "id": "7f49262b",
   "metadata": {},
   "outputs": [
    {
     "name": "stdout",
     "output_type": "stream",
     "text": [
      "['this is the first line \\n', 'this is the second line \\n', 'this is the threee line \\n']\n"
     ]
    }
   ],
   "source": [
    "#9. How can you read a file line by line and store its content in a list in Python?\n",
    "\n",
    "#using readlines() function\n",
    "with open(\"file1.txt\", \"r\") as file:\n",
    "    lines = file.readlines()  \n",
    "\n",
    "\n",
    "print(lines)\n"
   ]
  },
  {
   "cell_type": "code",
   "execution_count": 13,
   "id": "0f794d32",
   "metadata": {},
   "outputs": [],
   "source": [
    "#10 How can you append data to an existing file in Python?\n",
    "\n",
    "# using \"a\" as file opening mode\n",
    "\n",
    "with open(\"file1.txt\", \"a\") as file:\n",
    "    file.write(\"This is a new line added to the file.\\n\")"
   ]
  },
  {
   "cell_type": "code",
   "execution_count": 14,
   "id": "c5894f43",
   "metadata": {},
   "outputs": [
    {
     "name": "stdout",
     "output_type": "stream",
     "text": [
      "key doesn't exist error occured as for key 'address'\n"
     ]
    }
   ],
   "source": [
    "#11. Write a Python program that uses a try-except block to handle an error when attempting to access a dictionary key that doesn't exist\n",
    "\n",
    "dict = {\n",
    "    \"name\":\"Rohit\",\n",
    "    \"class\": \"12th\",\n",
    "    \"age\":20\n",
    "}\n",
    "\n",
    "\n",
    "try:\n",
    "    print(dict[\"address\"])\n",
    "except KeyError as e:\n",
    "    print(\"key doesn't exist error occured as for key\",e)\n"
   ]
  },
  {
   "cell_type": "code",
   "execution_count": 15,
   "id": "e2e09647",
   "metadata": {},
   "outputs": [
    {
     "name": "stdout",
     "output_type": "stream",
     "text": [
      "Error: The file was not found.\n"
     ]
    }
   ],
   "source": [
    "#12. Write a program that demonstrates using multiple except blocks to handle different types of exceptions\n",
    "\n",
    "try:\n",
    "    num = 1\n",
    "    result = 10 / num\n",
    "\n",
    "    with open(\"newfile.txt\", \"r\") as file:\n",
    "        content = file.read()\n",
    "\n",
    "    print(\"Division result:\", result)\n",
    "    print(\"File content:\\n\", content)\n",
    "\n",
    "\n",
    "except ZeroDivisionError:\n",
    "    print(\"Error: Cannot divide by zero.\")\n",
    "\n",
    "except ValueError:\n",
    "    print(\"Error: Invalid input. enter a valid number\")\n",
    "\n",
    "except FileNotFoundError:\n",
    "    print(\"Error: The file was not found.\")\n",
    "\n",
    "except Exception as e:\n",
    "    print(f\"An unexpected error occurred: {e}\")\n",
    "\n"
   ]
  },
  {
   "cell_type": "code",
   "execution_count": 16,
   "id": "e8780276",
   "metadata": {},
   "outputs": [
    {
     "name": "stdout",
     "output_type": "stream",
     "text": [
      "File content:\n",
      " this is the first line \n",
      "this is the second line \n",
      "this is the threee line \n",
      "This is a new line added to the file.\n",
      "\n"
     ]
    }
   ],
   "source": [
    "#13. How would you check if a file exists before attempting to read it in Python?\n",
    "\n",
    "#using os.path.exists(file_path)  funnction\n",
    "\n",
    "import os\n",
    "file_path = \"file1.txt\"\n",
    "\n",
    "if os.path.exists(file_path):\n",
    "    with open(file_path, \"r\") as file:\n",
    "        content = file.read()\n",
    "        print(\"File content:\\n\", content)\n",
    "else:\n",
    "    print(\"Error: The file does not exist.\")\n"
   ]
  },
  {
   "cell_type": "code",
   "execution_count": 17,
   "id": "a72c0fc1",
   "metadata": {},
   "outputs": [],
   "source": [
    "#14. Write a program that uses the logging module to log both informational and error messages\n",
    "import logging\n",
    "\n",
    "logging.basicConfig(\n",
    "    filename=\"error_log3.txt\",\n",
    "    level=logging.INFO,\n",
    "    format='%(levelname)s - %(message)s'\n",
    ")\n",
    "\n",
    "logging.info(\"the execution is started\")\n",
    "try:\n",
    "    num1 = 10\n",
    "    num2 = 0\n",
    "    result = num1 / num2\n",
    "    logging.info(\"Division successful. Result: %s\", result)\n",
    "\n",
    "except ZeroDivisionError as e:\n",
    "    logging.error(\"Error occurred: Division by zero. %s\", e)\n",
    "\n",
    "logging.info(\"the program is ended\")\n"
   ]
  },
  {
   "cell_type": "code",
   "execution_count": 18,
   "id": "2a269a8a",
   "metadata": {},
   "outputs": [
    {
     "name": "stdout",
     "output_type": "stream",
     "text": [
      "File Content:\n",
      " this is the first line \n",
      "this is the second line \n",
      "this is the threee line \n",
      "This is a new line added to the file.\n",
      "\n"
     ]
    }
   ],
   "source": [
    "#15. Write a Python program that prints the content of a file and handles the case when the file is empty?\n",
    "\n",
    "#check filesize using  os.path.getsize(file)  function\n",
    "\n",
    "import os\n",
    "file_path = \"file1.txt\"\n",
    "try:\n",
    "    \n",
    "    if os.path.getsize(file_path) == 0:\n",
    "            print(\"The file is empty.\")\n",
    "    else:\n",
    "          \n",
    "        with open(file_path, \"r\") as file:\n",
    "            content = file.read()\n",
    "            print(\"File Content:\\n\", content)\n",
    "\n",
    "except Exception as e:\n",
    "    print(f\"An unexpected error occurred: {e}\")\n"
   ]
  },
  {
   "cell_type": "code",
   "execution_count": 27,
   "id": "ca034d54",
   "metadata": {},
   "outputs": [
    {
     "name": "stdout",
     "output_type": "stream",
     "text": [
      "Filename: C:\\Users\\arunp\\AppData\\Local\\Temp\\ipykernel_11324\\815587554.py\n",
      "\n",
      "Line #    Mem usage    Increment  Occurrences   Line Contents\n",
      "=============================================================\n",
      "     4     73.9 MiB     73.9 MiB           1   @profile\n",
      "     5                                         \n",
      "     6                                         def allocate_memory():\n",
      "     7     74.0 MiB      0.0 MiB       10003       a = [i for i in range(10000)]\n",
      "     8     74.0 MiB      0.1 MiB       10003       b = [i ** 2 for i in range(10000)]\n",
      "     9     74.0 MiB      0.0 MiB           1       return a, b\n",
      "\n",
      "\n"
     ]
    }
   ],
   "source": [
    "#16. Demonstrate how to use memory profiling to check the memory usage of a small program                 \n",
    "\n",
    "from memory_profiler import profile\n",
    "@profile\n",
    "\n",
    "def allocate_memory():\n",
    "    a = [i for i in range(10000)]\n",
    "    b = [i ** 2 for i in range(10000)]\n",
    "    return a, b\n",
    "\n",
    "if __name__ == \"__main__\":\n",
    "    allocate_memory()"
   ]
  },
  {
   "cell_type": "code",
   "execution_count": 20,
   "id": "22eeb145",
   "metadata": {},
   "outputs": [],
   "source": [
    "#17. Write a Python program to create and write a list of numbers to a file, one number per line.\n",
    "\n",
    "numbers = [10, 20, 30, 40, 50]\n",
    "\n",
    "\n",
    "with open(\"file3.txt\", \"w\") as file:\n",
    "    for number in numbers:\n",
    "        file.write(f\"{number}\\n\")  "
   ]
  },
  {
   "cell_type": "code",
   "execution_count": 21,
   "id": "4ea400d8",
   "metadata": {},
   "outputs": [],
   "source": [
    "#18 How would you implement a basic logging setup that logs to a file with rotation after 1MB\n",
    "\n",
    "import logging\n",
    "from logging.handlers import RotatingFileHandler\n",
    "\n",
    "logger = logging.getLogger(\"my_logger\")\n",
    "logger.setLevel(logging.INFO)  \n",
    "\n",
    "log_file = \"app.log\"\n",
    "handler = RotatingFileHandler(\n",
    "    log_file, maxBytes=1_000_000, backupCount=5\n",
    ")\n",
    "formatter = logging.Formatter(\n",
    "    '%(asctime)s - %(levelname)s - %(message)s'\n",
    ")\n",
    "handler.setFormatter(formatter)\n",
    "logger.addHandler(handler)\n",
    "logger.info(\"This is an info message.\")\n",
    "logger.error(\"This is an error message.\")\n"
   ]
  },
  {
   "cell_type": "code",
   "execution_count": 22,
   "id": "9c3cf8ca",
   "metadata": {},
   "outputs": [
    {
     "name": "stdout",
     "output_type": "stream",
     "text": [
      "Error: List index is out of range.\n",
      "Program continues...\n"
     ]
    }
   ],
   "source": [
    "#19. Write a program that handles both IndexError and KeyError using a try-except block.\n",
    "\n",
    "try:\n",
    "    my_list = [1, 2, 3]\n",
    "    print(\"List element at index 5:\", my_list[5])  \n",
    "    my_dict = {'a': 10, 'b': 20}\n",
    "    print(\"Value for key 'z':\", my_dict['z'])      \n",
    "\n",
    "\n",
    "except IndexError:\n",
    "    print(\"Error: List index is out of range.\")\n",
    "\n",
    "except KeyError:\n",
    "    print(\"Error: Key not found in the dictionary.\")\n",
    "\n",
    "except Exception as e:\n",
    "    print(f\"An unexpected error occurred: {e}\")\n",
    "\n",
    "print(\"Program continues...\")\n"
   ]
  },
  {
   "cell_type": "code",
   "execution_count": 23,
   "id": "1ccfde80",
   "metadata": {},
   "outputs": [
    {
     "name": "stdout",
     "output_type": "stream",
     "text": [
      "this is the first line\n",
      "this is the second line\n",
      "this is the threee line\n"
     ]
    }
   ],
   "source": [
    "#20. How would you open a file and read its contents using a context manager in Python\n",
    "\n",
    "with open(\"file2.txt\", \"r\") as file:\n",
    "    for line in file:\n",
    "        print(line.strip())\n"
   ]
  },
  {
   "cell_type": "code",
   "execution_count": 24,
   "id": "99625a5c",
   "metadata": {},
   "outputs": [
    {
     "name": "stdout",
     "output_type": "stream",
     "text": [
      "the word name occured 0 times\n"
     ]
    }
   ],
   "source": [
    "#21. Write a Python program that reads a file and prints the number of occurrences of a specific word.\n",
    "\n",
    "search_word = \"name\"\n",
    "count = 0\n",
    "\n",
    "with open(\"file1.txt\", \"r\") as file:\n",
    "    for line in file:\n",
    "        words = line.lower().split()\n",
    "        count += words.count(search_word)\n",
    "\n",
    "\n",
    "print(f\"the word {search_word} occured {count} times\")"
   ]
  },
  {
   "cell_type": "code",
   "execution_count": 25,
   "id": "b1420ccd",
   "metadata": {},
   "outputs": [
    {
     "name": "stdout",
     "output_type": "stream",
     "text": [
      "this is the first line\n",
      "this is the second line\n",
      "this is the threee line\n",
      "This is a new line added to the file.\n"
     ]
    }
   ],
   "source": [
    "#22. How can you check if a file is empty before attempting to read its contents\n",
    "\n",
    "# using os.path.exists(path) function\n",
    "\n",
    "import os\n",
    "f_path = \"file1.txt\"\n",
    "\n",
    "if os.path.getsize(f_path) != 0:\n",
    "    with open(f_path,'r') as f:\n",
    "        for line in f:\n",
    "            print(line.strip())\n",
    "\n",
    "else:\n",
    "    print(\"file is empty\")"
   ]
  },
  {
   "cell_type": "code",
   "execution_count": 26,
   "id": "5904eb45",
   "metadata": {},
   "outputs": [
    {
     "name": "stdout",
     "output_type": "stream",
     "text": [
      "File not found:  [Errno 2] No such file or directory: 'file82.txt'\n",
      "program finished.....\n"
     ]
    }
   ],
   "source": [
    "#23. Write a Python program that writes to a log file when an error occurs during file handling.\n",
    "\n",
    "import logging\n",
    "\n",
    "# Set up logging configuration\n",
    "logging.basicConfig(\n",
    "    filename='errors_log4.log',       \n",
    "    level=logging.ERROR,              \n",
    "    format='%(asctime)s - %(levelname)s - %(message)s'\n",
    ")\n",
    "\n",
    "file_path = \"file82.txt\"\n",
    "\n",
    "try:\n",
    "    with open(file_path, \"r\") as file:\n",
    "        content = file.read()\n",
    "        print(\"File Content:\\n\", content)\n",
    "\n",
    "except FileNotFoundError as e:\n",
    "    logging.error(\"File not found: %s\", e)\n",
    "    print(\"File not found: \", e)\n",
    "\n",
    "    \n",
    "print(\"program finished.....\")\n",
    "\n"
   ]
  },
  {
   "cell_type": "code",
   "execution_count": null,
   "id": "e94a8e1a",
   "metadata": {},
   "outputs": [],
   "source": []
  }
 ],
 "metadata": {
  "kernelspec": {
   "display_name": "Python 3",
   "language": "python",
   "name": "python3"
  },
  "language_info": {
   "codemirror_mode": {
    "name": "ipython",
    "version": 3
   },
   "file_extension": ".py",
   "mimetype": "text/x-python",
   "name": "python",
   "nbconvert_exporter": "python",
   "pygments_lexer": "ipython3",
   "version": "3.11.9"
  }
 },
 "nbformat": 4,
 "nbformat_minor": 5
}
